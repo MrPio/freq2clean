{
 "cells": [
  {
   "cell_type": "code",
   "execution_count": 1,
   "id": "d30ff911",
   "metadata": {},
   "outputs": [
    {
     "name": "stderr",
     "output_type": "stream",
     "text": [
      "/leonardo_scratch/fast/IscrC_MACRO/CalciumImagingDenoising/.venv/lib/python3.11/site-packages/tqdm/auto.py:21: TqdmWarning: IProgress not found. Please update jupyter and ipywidgets. See https://ipywidgets.readthedocs.io/en/stable/user_install.html\n",
      "  from .autonotebook import tqdm as notebook_tqdm\n"
     ]
    }
   ],
   "source": [
    "%load_ext autoreload\n",
    "%autoreload 2\n",
    "import sys\n",
    "from pathlib import Path\n",
    "import numpy as np\n",
    "from scipy.signal import wiener\n",
    "from tqdm import tqdm\n",
    "import pandas as pd\n",
    "from skimage.metrics import peak_signal_noise_ratio as psnr, structural_similarity as ssim\n",
    "\n",
    "sys.path.append(str(Path(\"..\").resolve()))\n",
    "from src import *"
   ]
  },
  {
   "cell_type": "markdown",
   "id": "864f2a28",
   "metadata": {},
   "source": [
    "# Fourier Transform"
   ]
  },
  {
   "cell_type": "code",
   "execution_count": 19,
   "id": "6902cd87",
   "metadata": {},
   "outputs": [
    {
     "name": "stdout",
     "output_type": "stream",
     "text": [
      "\u001b[1m\u001b[31m1Q - -5.52dBSNR\u001b[0m\n",
      "\u001b[1m\u001b[32m2Q - -2.51dBSNR\u001b[0m\n",
      "\u001b[1m\u001b[33m4Q - 0.48dBSNR\u001b[0m\n",
      "\u001b[1m\u001b[34m7Q - 2.88dBSNR\u001b[0m\n",
      "\u001b[1m\u001b[35m12Q - 5.17dBSNR\u001b[0m\n",
      "\u001b[1m\u001b[36m20Q - 7.31dBSNR\u001b[0m\n",
      "\u001b[1m\u001b[37m40Q - 10.14dBSNR\u001b[0m\n",
      "\u001b[1m\u001b[90m75Q - 12.56dBSNR\u001b[0m\n",
      "\u001b[1m\u001b[91m150Q - 14.98dBSNR\u001b[0m\n",
      "\u001b[1m\u001b[92m375Q - 17.56dBSNR\u001b[0m\n"
     ]
    }
   ],
   "source": [
    "x_paths = sorted(\n",
    "    [_ for _ in DATASETS[\"synthetic\"].dir.glob(\"*.tif\") if \"clean\" not in _.stem],\n",
    "    key=lambda _: float(_.stem.split(\"_\")[-2].split(\"dBSNR\")[0]),\n",
    ")\n",
    "cprint(*[f\"rand:{' - '.join(_.stem.split('_')[1:-1])}\" for _ in x_paths], sep=\"\\n\")"
   ]
  },
  {
   "cell_type": "code",
   "execution_count": null,
   "id": "60dd4ff3",
   "metadata": {},
   "outputs": [],
   "source": [
    "FRAMES=300\n",
    "x_path = DATASETS[\"synthetic\"].dir / \"noise_1Q_-5.52dBSNR_490x490x6000.tif\"\n",
    "y_path = DATASETS[\"synthetic\"].dir / \"clean_30Hz_490x490x6000.tif\"\n",
    "x, y = (Recording(_, max_frames=FRAMES) for _ in [x_path, y_path])\n",
    "RES_DIR=Path(\"results/synthetic/\")\n",
    "RES_DIR.mkdir(exists_ok=True)"
   ]
  },
  {
   "cell_type": "code",
   "execution_count": null,
   "id": "5b0ab78a",
   "metadata": {},
   "outputs": [],
   "source": [
    "fft_x = np.fft.fft(x.np, axis=0)\n",
    "fft_abs_x = np.abs(fft_x)\n",
    "fft_angle_x = np.angle(fft_x, deg=True)\n",
    "del fft_x"
   ]
  },
  {
   "cell_type": "code",
   "execution_count": null,
   "id": "25f8b531",
   "metadata": {},
   "outputs": [],
   "source": [
    "fft_y = np.fft.fft(y.np, axis=0)\n",
    "fft_abs_y = np.abs(fft_y)\n",
    "fft_angle_y = np.angle(fft_y, deg=True)\n",
    "del fft_y"
   ]
  },
  {
   "cell_type": "code",
   "execution_count": null,
   "id": "d677f129",
   "metadata": {},
   "outputs": [],
   "source": [
    "dt = 1 / 30  # Synthetic is 30Hz\n",
    "freqs = np.fft.fftfreq(x.np.shape[0], d=dt)\n",
    "rfft_abs_x = fft_abs_x[freqs >= 0]\n",
    "rfft_abs_y = fft_abs_y[freqs >= 0]\n",
    "rfft_angle_x = fft_angle_x[freqs >= 0]\n",
    "rfft_angle_y = fft_angle_y[freqs >= 0]"
   ]
  },
  {
   "cell_type": "code",
   "execution_count": null,
   "id": "70d9be20",
   "metadata": {},
   "outputs": [],
   "source": [
    "Recording(rfft_abs_x).render(\"rfft_abs_x.mp4\", bitrate=2000, fps=7)\n",
    "Recording(rfft_abs_y).render(\"rfft_abs_y.mp4\", bitrate=2000, fps=7)\n",
    "Editor().compose(\n",
    "    [{\"Raw\": RES_DIR / \"rfft_abs_x.mp4\", \"DeepCAD\": RES_DIR / \"rfft_abs_y.mp4\"}],\n",
    "    RES_DIR / \"rfft_abs_comb.mp4\",\n",
    "    bitrate=2500,\n",
    ")"
   ]
  },
  {
   "cell_type": "code",
   "execution_count": null,
   "id": "b6c32f69",
   "metadata": {},
   "outputs": [],
   "source": [
    "for i in [0, 1, 2, -1]:\n",
    "    cprint(f\"Frequency=\", f\"cyan:{freqs[freqs>=0][i]:.2f}ω\")\n",
    "    imshow([rfft_abs_x[i], rfft_abs_y[i]])\n",
    "    imshow([rfft_angle_x[i], rfft_angle_x[i]])"
   ]
  },
  {
   "cell_type": "markdown",
   "id": "1abf4fcc",
   "metadata": {},
   "source": [
    "### The magnitude of the lowest-freq frame can be taken from RAW"
   ]
  },
  {
   "cell_type": "code",
   "execution_count": 9,
   "id": "0f4c4c30",
   "metadata": {},
   "outputs": [],
   "source": [
    "np.save(RES_DIR/f\"{FRAMES}_freq0.npy\", fft_abs_x[0])"
   ]
  },
  {
   "cell_type": "code",
   "execution_count": 10,
   "id": "f1811f50",
   "metadata": {},
   "outputs": [],
   "source": [
    "fft_abs = fft_abs_y\n",
    "fft_abs[0] = fft_abs_x[0].copy()\n",
    "del fft_abs_x, fft_angle_x\n",
    "X = fft_abs_y * np.exp(1j * np.deg2rad(fft_angle_y))\n",
    "astro_fused = np.fft.ifft(X, axis=0).real"
   ]
  },
  {
   "cell_type": "code",
   "execution_count": null,
   "id": "ea30a655",
   "metadata": {},
   "outputs": [],
   "source": [
    "suffx = FRAMES\n",
    "Recording(astro_fused).render(f\"fft_fusion_{suffx}.mp4\", fps=30)\n",
    "# astro_y.render(\"astro_y.mp4\", fps=30)\n",
    "Editor().alternate(\n",
    "    {\"FFT Fused\": RES_DIR / f\"fft_fusion_{suffx}.mp4\", \"DeepCAD\": RES_DIR / \"astro_y.mp4\"},\n",
    "    RES_DIR / f\"fft_fusion_{suffx}_alt.mp4\",\n",
    "    bitrate=3000,\n",
    "    delta=1.5,\n",
    ")\n",
    "Editor().compose(\n",
    "    [{\"FFT Fused\": RES_DIR / f\"fft_fusion_{suffx}.mp4\", \"DeepCAD\": RES_DIR / \"astro_y.mp4\"}],\n",
    "    RES_DIR / f\"fft_fusion_{suffx}_comb.mp4\",\n",
    "    bitrate=3500,\n",
    ")"
   ]
  },
  {
   "cell_type": "code",
   "execution_count": 14,
   "id": "58647413",
   "metadata": {},
   "outputs": [],
   "source": [
    "np.save(RES_DIR/\"astro_fused.npy\",astro_fused)"
   ]
  }
 ],
 "metadata": {
  "kernelspec": {
   "display_name": ".venv",
   "language": "python",
   "name": "python3"
  },
  "language_info": {
   "codemirror_mode": {
    "name": "ipython",
    "version": 3
   },
   "file_extension": ".py",
   "mimetype": "text/x-python",
   "name": "python",
   "nbconvert_exporter": "python",
   "pygments_lexer": "ipython3",
   "version": "3.11.7"
  }
 },
 "nbformat": 4,
 "nbformat_minor": 5
}
