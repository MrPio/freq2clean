{
 "cells": [
  {
   "cell_type": "code",
   "execution_count": 1,
   "id": "ab334701",
   "metadata": {},
   "outputs": [],
   "source": [
    "%load_ext autoreload\n",
    "%autoreload 2\n",
    "import sys\n",
    "from pathlib import Path\n",
    "from matplotlib.lines import Line2D\n",
    "import math\n",
    "\n",
    "sys.path.append(str(Path(\"..\").resolve()))\n",
    "from src import *"
   ]
  },
  {
   "cell_type": "markdown",
   "id": "a81daed9",
   "metadata": {},
   "source": [
    "# DCT vs FFT"
   ]
  },
  {
   "cell_type": "code",
   "execution_count": null,
   "id": "607c5a73",
   "metadata": {},
   "outputs": [],
   "source": [
    "editor = Editor()\n",
    "editor.compose(\n",
    "    [\n",
    "        {\n",
    "            \"DeepCAD\": \"best/y.mp4\",\n",
    "            \"GroundTruth\": \"best/gt.mp4\",\n",
    "        },\n",
    "        {\n",
    "            \"DCT\": \"best/dct_fused_frame3000_win6000_s036_δs72_t0-6_δt16.mp4\",\n",
    "            \"FFT\": \"best/fft_frame1000_alpha0.8.mp4\",\n",
    "        },\n",
    "    ],\n",
    "    \"dct_vs_fft.mp4\",\n",
    "    bitrate=1500,\n",
    "    duration=60,\n",
    "    speed=1,\n",
    "    zoom=2.75,\n",
    ")"
   ]
  },
  {
   "cell_type": "markdown",
   "id": "e1fcf81b",
   "metadata": {},
   "source": [
    "## 🎥 See [`dct_vs_fft.mp4`](dct_vs_fft.mp4)"
   ]
  }
 ],
 "metadata": {
  "kernelspec": {
   "display_name": ".venv",
   "language": "python",
   "name": "python3"
  },
  "language_info": {
   "codemirror_mode": {
    "name": "ipython",
    "version": 3
   },
   "file_extension": ".py",
   "mimetype": "text/x-python",
   "name": "python",
   "nbconvert_exporter": "python",
   "pygments_lexer": "ipython3",
   "version": "3.10.16"
  }
 },
 "nbformat": 4,
 "nbformat_minor": 5
}
