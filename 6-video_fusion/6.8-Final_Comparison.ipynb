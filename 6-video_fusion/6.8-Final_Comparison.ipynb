{
 "cells": [
  {
   "cell_type": "code",
   "execution_count": 2,
   "id": "ab334701",
   "metadata": {},
   "outputs": [
    {
     "name": "stdout",
     "output_type": "stream",
     "text": [
      "The autoreload extension is already loaded. To reload it, use:\n",
      "  %reload_ext autoreload\n"
     ]
    }
   ],
   "source": [
    "%load_ext autoreload\n",
    "%autoreload 2\n",
    "import sys\n",
    "from pathlib import Path\n",
    "from matplotlib.lines import Line2D\n",
    "import math\n",
    "\n",
    "sys.path.append(str(Path(\"..\").resolve()))\n",
    "from src import *"
   ]
  },
  {
   "cell_type": "markdown",
   "id": "a81daed9",
   "metadata": {},
   "source": [
    "# DCT vs FFT"
   ]
  },
  {
   "cell_type": "code",
   "execution_count": null,
   "id": "607c5a73",
   "metadata": {},
   "outputs": [],
   "source": [
    "editor = Editor()\n",
    "editor.compose(\n",
    "    [\n",
    "        {\n",
    "            \"DeepCAD\": \"best/y.mp4\",\n",
    "            \"GroundTruth\": \"best/gt.mp4\",\n",
    "        },\n",
    "        {\n",
    "            \"DCT\": \"best/dct_fused_frame3000_win6000_s036_δs72_t0-6_δt16.mp4\",\n",
    "            \"FFT\": \"best/ftt_fused_frame3000_alphas0.85.mp4\",\n",
    "        },\n",
    "    ],\n",
    "    \"dct_vs_fft.mp4\",\n",
    "    bitrate=1500,\n",
    "    duration=60,\n",
    "    speed=1,\n",
    "    zoom=2.75,\n",
    ")"
   ]
  },
  {
   "cell_type": "markdown",
   "id": "e1fcf81b",
   "metadata": {},
   "source": [
    "### 🎥 See [`dct_vs_fft.mp4`](dct_vs_fft.mp4)"
   ]
  },
  {
   "cell_type": "markdown",
   "id": "bfd6cdfe",
   "metadata": {},
   "source": [
    "## PSNR3D vs SSIM3D"
   ]
  },
  {
   "cell_type": "code",
   "execution_count": null,
   "id": "792bdd79",
   "metadata": {},
   "outputs": [],
   "source": []
  }
 ],
 "metadata": {
  "kernelspec": {
   "display_name": ".venv",
   "language": "python",
   "name": "python3"
  },
  "language_info": {
   "codemirror_mode": {
    "name": "ipython",
    "version": 3
   },
   "file_extension": ".py",
   "mimetype": "text/x-python",
   "name": "python",
   "nbconvert_exporter": "python",
   "pygments_lexer": "ipython3",
   "version": "3.10.16"
  }
 },
 "nbformat": 4,
 "nbformat_minor": 5
}
