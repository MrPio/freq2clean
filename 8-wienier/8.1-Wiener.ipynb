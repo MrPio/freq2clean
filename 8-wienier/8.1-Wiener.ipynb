{
 "cells": [
  {
   "cell_type": "code",
   "execution_count": 1,
   "id": "d30ff911",
   "metadata": {},
   "outputs": [],
   "source": [
    "%load_ext autoreload\n",
    "%autoreload 2\n",
    "import sys\n",
    "from pathlib import Path\n",
    "import numpy as np\n",
    "from scipy.signal import wiener\n",
    "from tqdm import tqdm\n",
    "import pandas as pd\n",
    "from skimage.metrics import peak_signal_noise_ratio as psnr, structural_similarity as ssim\n",
    "\n",
    "sys.path.append(str(Path(\"..\").resolve()))\n",
    "from src import *"
   ]
  },
  {
   "cell_type": "markdown",
   "id": "864f2a28",
   "metadata": {},
   "source": [
    "# Wiener Filter"
   ]
  },
  {
   "cell_type": "code",
   "execution_count": 3,
   "id": "60dd4ff3",
   "metadata": {},
   "outputs": [],
   "source": [
    "astro_x_path = DATASETS[\"oabf_astro\"].dir / \"x.tiff\"\n",
    "astro_y_path = DATASETS[\"oabf_astro\"].dir / \"y.tiff\"\n",
    "astro_x, astro_y = (Recording(_, max_frames=frames_per_patch*2) for _ in [astro_x_path, astro_y_path])"
   ]
  },
  {
   "cell_type": "code",
   "execution_count": null,
   "id": "680a2812",
   "metadata": {},
   "outputs": [],
   "source": [
    "# Video sintetico: 20 frame 64x64 con un quadrato bianco che si muove\n",
    "frames = 20\n",
    "h, w = 64, 64\n",
    "video = np.zeros((frames, h, w))\n",
    "for t in range(frames):\n",
    "    video[t, 16:32, 16+t:32+t] = 1.0\n",
    "\n",
    "# Aggiungo rumore gaussiano\n",
    "np.random.seed(0)\n",
    "noisy = video + 0.2 * np.random.randn(*video.shape)\n",
    "\n",
    "# Wiener frame-per-frame (2D)\n",
    "denoised_2d = np.array([wiener(noisy[t], (5,5)) for t in range(frames)])\n",
    "\n",
    "# Wiener 3D semplice: blocco di 3 frame (finestra temporale)\n",
    "def wiener3d(noisy, win=(3,5,5)):\n",
    "    T,H,W = noisy.shape\n",
    "    out = np.zeros_like(noisy)\n",
    "    pad = (win[0]//2, win[1]//2, win[2]//2)\n",
    "    noisy_p = np.pad(noisy, [(pad[0],)]*2 + [(pad[1],)]*2 + [(pad[2],)]*2, mode=\"reflect\")\n",
    "    for t in range(T):\n",
    "        for i in range(H):\n",
    "            for j in range(W):\n",
    "                block = noisy_p[t:t+win[0], i:i+win[1], j:j+win[2]]\n",
    "                local_mean = np.mean(block)\n",
    "                local_var = np.var(block)\n",
    "                noise_var = 0.04  # ipotesi sigma_n^2 = 0.2^2\n",
    "                out[t,i,j] = local_mean + max(0, local_var - noise_var)/max(local_var, noise_var) * (noisy[t,i,j] - local_mean)\n",
    "    return out\n",
    "\n",
    "denoised_3d = wiener3d(noisy)\n",
    "\n",
    "# Mostro un frame\n",
    "plt.subplot(1,3,1); plt.imshow(noisy[10], cmap=\"gray\"); plt.title(\"Noisy\")\n",
    "plt.subplot(1,3,2); plt.imshow(denoised_2d[10], cmap=\"gray\"); plt.title(\"2D Wiener\")\n",
    "plt.subplot(1,3,3); plt.imshow(denoised_3d[10], cmap=\"gray\"); plt.title(\"3D Wiener\")\n",
    "plt.show()\n"
   ]
  }
 ],
 "metadata": {
  "kernelspec": {
   "display_name": ".venv",
   "language": "python",
   "name": "python3"
  },
  "language_info": {
   "codemirror_mode": {
    "name": "ipython",
    "version": 3
   },
   "file_extension": ".py",
   "mimetype": "text/x-python",
   "name": "python",
   "nbconvert_exporter": "python",
   "pygments_lexer": "ipython3",
   "version": "3.10.16"
  }
 },
 "nbformat": 4,
 "nbformat_minor": 5
}
