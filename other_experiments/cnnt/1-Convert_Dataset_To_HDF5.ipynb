{
 "cells": [
  {
   "cell_type": "code",
   "execution_count": 3,
   "id": "6e59640a",
   "metadata": {},
   "outputs": [
    {
     "name": "stderr",
     "output_type": "stream",
     "text": [
      "/leonardo_scratch/fast/IscrC_MACRO/CalciumImagingDenoising/.venv/lib/python3.11/site-packages/tqdm/auto.py:21: TqdmWarning: IProgress not found. Please update jupyter and ipywidgets. See https://ipywidgets.readthedocs.io/en/stable/user_install.html\n",
      "  from .autonotebook import tqdm as notebook_tqdm\n"
     ]
    }
   ],
   "source": [
    "%load_ext autoreload\n",
    "%autoreload 2\n",
    "import sys\n",
    "from pathlib import Path\n",
    "import numpy as np\n",
    "from tqdm import tqdm\n",
    "import h5py\n",
    "import tifffile as tiff\n",
    "from typing import Literal\n",
    "\n",
    "sys.path.append(str(Path(\"..\").resolve()))\n",
    "from src import *"
   ]
  },
  {
   "cell_type": "markdown",
   "id": "a0ddb92f",
   "metadata": {},
   "source": [
    "# Convert the Dataset to HDF5\n",
    "The authors of CNNT request the dataset to be structured in a proper way.\n",
    "Given the [`Denoising.zip`](https://zenodo.org/records/4624364#.YF4lBa9Kgal) dataset, we need to process it in the following way.\n",
    "\n",
    "- Convert each TIFF pair (raw ↔ ground-truth _decon) into an HDF5 top-level group that contains two datasets named exactly `noisy_im` and `clean_im` (each shaped T, H, W, dtype float32).\n",
    "- Put all those groups into one (or a few) `.h5` files and give the path(s) to `--h5files`. The authors' loader will then find hfile[key+\"/noisy_im\"] and hfile[key+\"/clean_im\"] and work."
   ]
  },
  {
   "cell_type": "code",
   "execution_count": 4,
   "id": "cfa01d5d",
   "metadata": {},
   "outputs": [],
   "source": [
    "def dataset2hdf5(dir: Path, subdirs: list[Literal[\"Training\", \"Test\"]] = [\"Training\"], gt_suffix=\"_decon\", demo=False):\n",
    "    \"\"\"Expecting the following hierarcy:\n",
    "\n",
    "    <DATASET NAME>\n",
    "        ├── Test\n",
    "        │   ├── `GT`\n",
    "        │   └── `Raw`\n",
    "        ├── Training\n",
    "        │   ├── `GT`\n",
    "        │   └── `Raw`\n",
    "    \"\"\"\n",
    "    name = dir.parts[-1]\n",
    "    # For each subdir (Training, Test)\n",
    "    for raw_dir, gt_dir in [(dir / _ / \"Raw\", dir / _ / \"GT\") for _ in subdirs]:\n",
    "        filename = f\"{name}_{raw_dir.parts[-2]}.h5\"\n",
    "        if Path(filename).exists():\n",
    "            continue\n",
    "        with h5py.File(filename, \"w\") as h5f:\n",
    "            # For each TIF file\n",
    "            for raw in tqdm(sorted(raw_dir.glob(\"*.tif\"))):\n",
    "                gt = gt_dir / f\"{raw.stem.replace('5%','80%').replace('C1-','C2-').replace('raw','gt')}{gt_suffix}.tif\"\n",
    "                g = h5f.create_group(raw.stem)\n",
    "                for ds, data in {\"noisy_im\": raw, \"clean_im\": gt}.items():\n",
    "                    g.create_dataset(\n",
    "                        ds,\n",
    "                        data=tiff.imread(data).astype(np.float32),\n",
    "                        compression=\"lzf\",\n",
    "                    )\n",
    "                if demo:\n",
    "                    break"
   ]
  },
  {
   "cell_type": "code",
   "execution_count": 5,
   "id": "555a75e2",
   "metadata": {},
   "outputs": [
    {
     "name": "stderr",
     "output_type": "stream",
     "text": [
      "  0%|          | 0/14 [00:00<?, ?it/s]"
     ]
    },
    {
     "name": "stderr",
     "output_type": "stream",
     "text": [
      "  0%|          | 0/20 [01:47<?, ?it/s]\n",
      "  0%|          | 0/14 [01:47<?, ?it/s]\n"
     ]
    }
   ],
   "source": [
    "dataset_dir = Path(\"dataset/Denoising/\")\n",
    "for subdir in tqdm(sorted(dataset_dir.glob(\"*\"))):\n",
    "    dataset2hdf5(subdir, demo=True)\n",
    "    break"
   ]
  }
 ],
 "metadata": {
  "kernelspec": {
   "display_name": ".venv",
   "language": "python",
   "name": "python3"
  },
  "language_info": {
   "codemirror_mode": {
    "name": "ipython",
    "version": 3
   },
   "file_extension": ".py",
   "mimetype": "text/x-python",
   "name": "python",
   "nbconvert_exporter": "python",
   "pygments_lexer": "ipython3",
   "version": "3.11.7"
  }
 },
 "nbformat": 4,
 "nbformat_minor": 5
}
