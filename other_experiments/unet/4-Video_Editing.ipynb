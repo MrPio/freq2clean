{
 "cells": [
  {
   "cell_type": "code",
   "execution_count": null,
   "id": "532d53a7",
   "metadata": {},
   "outputs": [],
   "source": [
    "%load_ext autoreload\n",
    "%autoreload 2\n",
    "import sys\n",
    "from pathlib import Path\n",
    "\n",
    "sys.path.append(str(Path(\"..\").resolve()))\n",
    "from src import *"
   ]
  },
  {
   "cell_type": "markdown",
   "id": "d5d0ee98",
   "metadata": {},
   "source": [
    "# Video Editing"
   ]
  },
  {
   "cell_type": "code",
   "execution_count": 2,
   "id": "b5bcf003",
   "metadata": {},
   "outputs": [],
   "source": [
    "editor = Editor()"
   ]
  },
  {
   "cell_type": "code",
   "execution_count": 10,
   "id": "8bcd0bfc",
   "metadata": {},
   "outputs": [
    {
     "name": "stdout",
     "output_type": "stream",
     "text": [
      "Moviepy - Building video pred_alternated.mp4.\n",
      "Moviepy - Writing video pred_alternated.mp4\n",
      "\n"
     ]
    },
    {
     "name": "stderr",
     "output_type": "stream",
     "text": [
      "                                                              \r"
     ]
    },
    {
     "name": "stdout",
     "output_type": "stream",
     "text": [
      "Moviepy - Done !\n",
      "Moviepy - video ready pred_alternated.mp4\n"
     ]
    },
    {
     "data": {
      "text/html": [
       "<video src=\"pred_alternated.mp4\" controls  >\n",
       "      Your browser does not support the <code>video</code> element.\n",
       "    </video>"
      ],
      "text/plain": [
       "<IPython.core.display.Video object>"
      ]
     },
     "execution_count": 10,
     "metadata": {},
     "output_type": "execute_result"
    }
   ],
   "source": [
    "vid1 = \"astro_deepcad.mp4\"\n",
    "vid2 = \"results/202508051050/pred.mp4\"\n",
    "editor.alternate(\n",
    "    {\"DeepCAD-RT\": vid1, \"UNet improved version\": vid2},\n",
    "    output=f\"{Path(vid2).stem}_alternated.mp4\",\n",
    "    delta=1.5,\n",
    ")"
   ]
  }
 ],
 "metadata": {
  "kernelspec": {
   "display_name": ".venv",
   "language": "python",
   "name": "python3"
  },
  "language_info": {
   "codemirror_mode": {
    "name": "ipython",
    "version": 3
   },
   "file_extension": ".py",
   "mimetype": "text/x-python",
   "name": "python",
   "nbconvert_exporter": "python",
   "pygments_lexer": "ipython3",
   "version": "3.10.16"
  }
 },
 "nbformat": 4,
 "nbformat_minor": 5
}
